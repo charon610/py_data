{
 "cells": [
  {
   "cell_type": "code",
   "execution_count": 2,
   "id": "316b0e46",
   "metadata": {},
   "outputs": [
    {
     "name": "stdout",
     "output_type": "stream",
     "text": [
      "원리금 합계= 1628.894626777442\n"
     ]
    }
   ],
   "source": [
    "# 원리금 합계 구하기\n",
    "\n",
    "a = 1000      # 원금\n",
    "r = 0.05      # 이자율\n",
    "n = 10        # 기간\n",
    "result = a* (1+r)**n   # 원리금 합계\n",
    "\n",
    "print(\"원리금 합계=\", result)"
   ]
  },
  {
   "cell_type": "code",
   "execution_count": 6,
   "id": "9c785112",
   "metadata": {},
   "outputs": [
    {
     "name": "stdout",
     "output_type": "stream",
     "text": [
      "925.88\n"
     ]
    }
   ],
   "source": [
    "# 소수점 자리\n",
    "price = 12345\n",
    "tax = price * 0.075\n",
    "tax = round(tax,2)\n",
    "print(tax)"
   ]
  },
  {
   "cell_type": "code",
   "execution_count": 7,
   "id": "1f9ef72e",
   "metadata": {
    "scrolled": true
   },
   "outputs": [
    {
     "name": "stdout",
     "output_type": "stream",
     "text": [
      "hello\n",
      "hi\n"
     ]
    }
   ],
   "source": [
    "# 문자열\n",
    "msg = \"hello\"\n",
    "print(msg)\n",
    "msg = 'hi'\n",
    "print(msg)"
   ]
  },
  {
   "cell_type": "code",
   "execution_count": 8,
   "id": "f53a7f72",
   "metadata": {},
   "outputs": [
    {
     "name": "stdout",
     "output_type": "stream",
     "text": [
      "\n",
      "안녕하세요\n",
      "지금\n",
      "파이썬을\n",
      "배우고 있습니다.\n",
      "\n"
     ]
    }
   ],
   "source": [
    "# 세 따옴표 문자열 - 여러줄 표시 가능\n",
    "a = \"\"\"\n",
    "안녕하세요\n",
    "지금\n",
    "파이썬을\n",
    "배우고 있습니다.\n",
    "\"\"\"\n",
    "print(a)"
   ]
  },
  {
   "cell_type": "code",
   "execution_count": 12,
   "id": "02a86290",
   "metadata": {},
   "outputs": [
    {
     "name": "stdout",
     "output_type": "stream",
     "text": [
      "------------------------------\n"
     ]
    }
   ],
   "source": [
    "Lines = \"-\" * 30\n",
    "print(Lines)"
   ]
  },
  {
   "cell_type": "code",
   "execution_count": 17,
   "id": "df95eeb3",
   "metadata": {},
   "outputs": [
    {
     "name": "stdout",
     "output_type": "stream",
     "text": [
      "Terminator3\n"
     ]
    }
   ],
   "source": [
    "# 숫자를 문자로 변환\n",
    "movie = \"Terminator\" + str(3)\n",
    "print(movie)"
   ]
  },
  {
   "cell_type": "code",
   "execution_count": 21,
   "id": "42fa6395",
   "metadata": {},
   "outputs": [
    {
     "name": "stdout",
     "output_type": "stream",
     "text": [
      "말 한마디로\n",
      "천냥 빚을\n",
      "갚는다\n"
     ]
    }
   ],
   "source": [
    "# \\n 특수문자 사용\n",
    "print(\"말 한마디로\\n천냥 빚을\\n갚는다\")"
   ]
  },
  {
   "cell_type": "code",
   "execution_count": 25,
   "id": "7f3b48e6",
   "metadata": {},
   "outputs": [
    {
     "name": "stdout",
     "output_type": "stream",
     "text": [
      "K과P과L\n"
     ]
    }
   ],
   "source": [
    "# 문자열은 배열로 처리함 - 한 칸이라도 들여쓰기하면 오류 발생\n",
    "a = \"Kim\"\n",
    "b = \"Park\"\n",
    "c = \"Lee\"\n",
    "acronym = a[0] + \"과\" + b[0] + \"과\" + c[0]\n",
    "print(acronym)"
   ]
  },
  {
   "cell_type": "code",
   "execution_count": 27,
   "id": "0297c946",
   "metadata": {},
   "outputs": [
    {
     "name": "stdout",
     "output_type": "stream",
     "text": [
      "harry porter\n",
      "HARRY PORTER\n"
     ]
    }
   ],
   "source": [
    "# 파이썬은 모든 변수를 오브젝트로 선언\n",
    "\n",
    "name = \"Harry Porter\"\n",
    "lower_name = name.lower()\n",
    "print(lower_name)\n",
    "upper_name = name.upper()\n",
    "print(upper_name)"
   ]
  }
 ],
 "metadata": {
  "kernelspec": {
   "display_name": "Python 3 (ipykernel)",
   "language": "python",
   "name": "python3"
  },
  "language_info": {
   "codemirror_mode": {
    "name": "ipython",
    "version": 3
   },
   "file_extension": ".py",
   "mimetype": "text/x-python",
   "name": "python",
   "nbconvert_exporter": "python",
   "pygments_lexer": "ipython3",
   "version": "3.9.12"
  }
 },
 "nbformat": 4,
 "nbformat_minor": 5
}
