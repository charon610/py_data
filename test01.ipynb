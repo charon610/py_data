{
 "cells": [
  {
   "cell_type": "code",
   "execution_count": 2,
   "id": "316b0e46",
   "metadata": {},
   "outputs": [],
   "source": [
    "# 함수명만 미리 선언하고 변수의 내용을 나중에 작성하고자 하는 경우\n",
    "\n",
    "def add():\n",
    "    pass\n",
    "\n",
    "def sub():\n",
    "    pass"
   ]
  },
  {
   "cell_type": "code",
   "execution_count": 8,
   "id": "2114b47c",
   "metadata": {},
   "outputs": [
    {
     "name": "stdout",
     "output_type": "stream",
     "text": [
      "반지름이 3인 원의 면적= 28.26\n"
     ]
    }
   ],
   "source": [
    "# 함수의 실행 순서\n",
    "result = get_area(3)\n",
    "\n",
    "print(\"반지름이 3인 원의 면적=\", result)  # 오류 발생!! - 함수명을 나중에 선언했는데 미리 호출한 경우\n",
    "\n",
    "def get_area(radius):\n",
    "    area = 3.14 * radius ** 2\n",
    "    return area"
   ]
  },
  {
   "cell_type": "code",
   "execution_count": 9,
   "id": "602dffa9",
   "metadata": {},
   "outputs": [
    {
     "name": "stdout",
     "output_type": "stream",
     "text": [
      "반지름이 3인 원의 면적= 28.26\n"
     ]
    }
   ],
   "source": [
    "# 함수의 실행 순서 - 먼저 호출하는 곳에 함수를 선언하고\n",
    "# 선언한 함수의 실행은 맨 아래에서 함.\n",
    "\n",
    "def main() :\n",
    "    result = get_area(3)\n",
    "    print(\"반지름이 3인 원의 면적=\", result)\n",
    "\n",
    "def get_area(radius):\n",
    "    area = 3.14 * radius ** 2\n",
    "    return area\n",
    "\n",
    "main()"
   ]
  },
  {
   "cell_type": "code",
   "execution_count": 10,
   "id": "f191ed2a",
   "metadata": {},
   "outputs": [
    {
     "name": "stdout",
     "output_type": "stream",
     "text": [
      "20cm 피자 2개의 면적: 2512.0\n",
      "30cm 피자 1개의 면적: 2826.0\n"
     ]
    }
   ],
   "source": [
    "# 피자의 면적을 비교하는 프로그램\n",
    "\n",
    "def main():\n",
    "    print(\"20cm 피자 2개의 면적:\", get_area(20) + get_area(20))\n",
    "    print(\"30cm 피자 1개의 면적:\", get_area(30))\n",
    "    \n",
    "# 원의 면적 계산\n",
    "def get_area(radius):\n",
    "    if radius > 0 : \n",
    "        area = 3.14 * radius ** 2\n",
    "    else :\n",
    "        area = 0\n",
    "    return area\n",
    "\n",
    "main()"
   ]
  },
  {
   "cell_type": "code",
   "execution_count": 12,
   "id": "5061f7d6",
   "metadata": {
    "scrolled": false
   },
   "outputs": [
    {
     "ename": "TclError",
     "evalue": "invalid command name \".!canvas\"",
     "output_type": "error",
     "traceback": [
      "\u001b[1;31m---------------------------------------------------------------------------\u001b[0m",
      "\u001b[1;31mTclError\u001b[0m                                  Traceback (most recent call last)",
      "Input \u001b[1;32mIn [12]\u001b[0m, in \u001b[0;36m<cell line: 14>\u001b[1;34m()\u001b[0m\n\u001b[0;32m     12\u001b[0m square(\u001b[38;5;241m100\u001b[39m)\n\u001b[0;32m     13\u001b[0m t\u001b[38;5;241m.\u001b[39mforward(\u001b[38;5;241m120\u001b[39m)\n\u001b[1;32m---> 14\u001b[0m \u001b[43msquare\u001b[49m\u001b[43m(\u001b[49m\u001b[38;5;241;43m100\u001b[39;49m\u001b[43m)\u001b[49m\n\u001b[0;32m     15\u001b[0m t\u001b[38;5;241m.\u001b[39mforward(\u001b[38;5;241m120\u001b[39m)\n\u001b[0;32m     16\u001b[0m square(\u001b[38;5;241m100\u001b[39m)\n",
      "Input \u001b[1;32mIn [12]\u001b[0m, in \u001b[0;36msquare\u001b[1;34m(length)\u001b[0m\n\u001b[0;32m      6\u001b[0m t\u001b[38;5;241m.\u001b[39mdown()\n\u001b[0;32m      7\u001b[0m \u001b[38;5;28;01mfor\u001b[39;00m i \u001b[38;5;129;01min\u001b[39;00m \u001b[38;5;28mrange\u001b[39m(\u001b[38;5;241m4\u001b[39m) :\n\u001b[1;32m----> 8\u001b[0m   \u001b[43mt\u001b[49m\u001b[38;5;241;43m.\u001b[39;49m\u001b[43mforward\u001b[49m\u001b[43m(\u001b[49m\u001b[43mlength\u001b[49m\u001b[43m)\u001b[49m\n\u001b[0;32m      9\u001b[0m   t\u001b[38;5;241m.\u001b[39mleft(\u001b[38;5;241m90\u001b[39m)\n\u001b[0;32m     10\u001b[0m t\u001b[38;5;241m.\u001b[39mup()\n",
      "File \u001b[1;32mC:\\ProgramData\\Anaconda3\\lib\\turtle.py:1638\u001b[0m, in \u001b[0;36mTNavigator.forward\u001b[1;34m(self, distance)\u001b[0m\n\u001b[0;32m   1617\u001b[0m \u001b[38;5;28;01mdef\u001b[39;00m \u001b[38;5;21mforward\u001b[39m(\u001b[38;5;28mself\u001b[39m, distance):\n\u001b[0;32m   1618\u001b[0m     \u001b[38;5;124;03m\"\"\"Move the turtle forward by the specified distance.\u001b[39;00m\n\u001b[0;32m   1619\u001b[0m \n\u001b[0;32m   1620\u001b[0m \u001b[38;5;124;03m    Aliases: forward | fd\u001b[39;00m\n\u001b[1;32m   (...)\u001b[0m\n\u001b[0;32m   1636\u001b[0m \u001b[38;5;124;03m    (-50.00,0.00)\u001b[39;00m\n\u001b[0;32m   1637\u001b[0m \u001b[38;5;124;03m    \"\"\"\u001b[39;00m\n\u001b[1;32m-> 1638\u001b[0m     \u001b[38;5;28;43mself\u001b[39;49m\u001b[38;5;241;43m.\u001b[39;49m\u001b[43m_go\u001b[49m\u001b[43m(\u001b[49m\u001b[43mdistance\u001b[49m\u001b[43m)\u001b[49m\n",
      "File \u001b[1;32mC:\\ProgramData\\Anaconda3\\lib\\turtle.py:1606\u001b[0m, in \u001b[0;36mTNavigator._go\u001b[1;34m(self, distance)\u001b[0m\n\u001b[0;32m   1604\u001b[0m \u001b[38;5;124;03m\"\"\"move turtle forward by specified distance\"\"\"\u001b[39;00m\n\u001b[0;32m   1605\u001b[0m ende \u001b[38;5;241m=\u001b[39m \u001b[38;5;28mself\u001b[39m\u001b[38;5;241m.\u001b[39m_position \u001b[38;5;241m+\u001b[39m \u001b[38;5;28mself\u001b[39m\u001b[38;5;241m.\u001b[39m_orient \u001b[38;5;241m*\u001b[39m distance\n\u001b[1;32m-> 1606\u001b[0m \u001b[38;5;28;43mself\u001b[39;49m\u001b[38;5;241;43m.\u001b[39;49m\u001b[43m_goto\u001b[49m\u001b[43m(\u001b[49m\u001b[43mende\u001b[49m\u001b[43m)\u001b[49m\n",
      "File \u001b[1;32mC:\\ProgramData\\Anaconda3\\lib\\turtle.py:3178\u001b[0m, in \u001b[0;36mRawTurtle._goto\u001b[1;34m(self, end)\u001b[0m\n\u001b[0;32m   3176\u001b[0m     \u001b[38;5;28mself\u001b[39m\u001b[38;5;241m.\u001b[39m_position \u001b[38;5;241m=\u001b[39m start \u001b[38;5;241m+\u001b[39m delta \u001b[38;5;241m*\u001b[39m n\n\u001b[0;32m   3177\u001b[0m     \u001b[38;5;28;01mif\u001b[39;00m \u001b[38;5;28mself\u001b[39m\u001b[38;5;241m.\u001b[39m_drawing:\n\u001b[1;32m-> 3178\u001b[0m         \u001b[43mscreen\u001b[49m\u001b[38;5;241;43m.\u001b[39;49m\u001b[43m_drawline\u001b[49m\u001b[43m(\u001b[49m\u001b[38;5;28;43mself\u001b[39;49m\u001b[38;5;241;43m.\u001b[39;49m\u001b[43mdrawingLineItem\u001b[49m\u001b[43m,\u001b[49m\n\u001b[0;32m   3179\u001b[0m \u001b[43m                         \u001b[49m\u001b[43m(\u001b[49m\u001b[43mstart\u001b[49m\u001b[43m,\u001b[49m\u001b[43m \u001b[49m\u001b[38;5;28;43mself\u001b[39;49m\u001b[38;5;241;43m.\u001b[39;49m\u001b[43m_position\u001b[49m\u001b[43m)\u001b[49m\u001b[43m,\u001b[49m\n\u001b[0;32m   3180\u001b[0m \u001b[43m                         \u001b[49m\u001b[38;5;28;43mself\u001b[39;49m\u001b[38;5;241;43m.\u001b[39;49m\u001b[43m_pencolor\u001b[49m\u001b[43m,\u001b[49m\u001b[43m \u001b[49m\u001b[38;5;28;43mself\u001b[39;49m\u001b[38;5;241;43m.\u001b[39;49m\u001b[43m_pensize\u001b[49m\u001b[43m,\u001b[49m\u001b[43m \u001b[49m\u001b[43mtop\u001b[49m\u001b[43m)\u001b[49m\n\u001b[0;32m   3181\u001b[0m     \u001b[38;5;28mself\u001b[39m\u001b[38;5;241m.\u001b[39m_update()\n\u001b[0;32m   3182\u001b[0m \u001b[38;5;28;01mif\u001b[39;00m \u001b[38;5;28mself\u001b[39m\u001b[38;5;241m.\u001b[39m_drawing:\n",
      "File \u001b[1;32mC:\\ProgramData\\Anaconda3\\lib\\turtle.py:544\u001b[0m, in \u001b[0;36mTurtleScreenBase._drawline\u001b[1;34m(self, lineitem, coordlist, fill, width, top)\u001b[0m\n\u001b[0;32m    542\u001b[0m         cl\u001b[38;5;241m.\u001b[39mappend(x \u001b[38;5;241m*\u001b[39m \u001b[38;5;28mself\u001b[39m\u001b[38;5;241m.\u001b[39mxscale)\n\u001b[0;32m    543\u001b[0m         cl\u001b[38;5;241m.\u001b[39mappend(\u001b[38;5;241m-\u001b[39my \u001b[38;5;241m*\u001b[39m \u001b[38;5;28mself\u001b[39m\u001b[38;5;241m.\u001b[39myscale)\n\u001b[1;32m--> 544\u001b[0m     \u001b[38;5;28;43mself\u001b[39;49m\u001b[38;5;241;43m.\u001b[39;49m\u001b[43mcv\u001b[49m\u001b[38;5;241;43m.\u001b[39;49m\u001b[43mcoords\u001b[49m\u001b[43m(\u001b[49m\u001b[43mlineitem\u001b[49m\u001b[43m,\u001b[49m\u001b[43m \u001b[49m\u001b[38;5;241;43m*\u001b[39;49m\u001b[43mcl\u001b[49m\u001b[43m)\u001b[49m\n\u001b[0;32m    545\u001b[0m \u001b[38;5;28;01mif\u001b[39;00m fill \u001b[38;5;129;01mis\u001b[39;00m \u001b[38;5;129;01mnot\u001b[39;00m \u001b[38;5;28;01mNone\u001b[39;00m:\n\u001b[0;32m    546\u001b[0m     \u001b[38;5;28mself\u001b[39m\u001b[38;5;241m.\u001b[39mcv\u001b[38;5;241m.\u001b[39mitemconfigure(lineitem, fill\u001b[38;5;241m=\u001b[39mfill)\n",
      "File \u001b[1;32m<string>:1\u001b[0m, in \u001b[0;36mcoords\u001b[1;34m(self, *args, **kw)\u001b[0m\n",
      "File \u001b[1;32mC:\\ProgramData\\Anaconda3\\lib\\tkinter\\__init__.py:2766\u001b[0m, in \u001b[0;36mCanvas.coords\u001b[1;34m(self, *args)\u001b[0m\n\u001b[0;32m   2762\u001b[0m \u001b[38;5;124;03m\"\"\"Return a list of coordinates for the item given in ARGS.\"\"\"\u001b[39;00m\n\u001b[0;32m   2763\u001b[0m \u001b[38;5;66;03m# XXX Should use _flatten on args\u001b[39;00m\n\u001b[0;32m   2764\u001b[0m \u001b[38;5;28;01mreturn\u001b[39;00m [\u001b[38;5;28mself\u001b[39m\u001b[38;5;241m.\u001b[39mtk\u001b[38;5;241m.\u001b[39mgetdouble(x) \u001b[38;5;28;01mfor\u001b[39;00m x \u001b[38;5;129;01min\u001b[39;00m\n\u001b[0;32m   2765\u001b[0m                    \u001b[38;5;28mself\u001b[39m\u001b[38;5;241m.\u001b[39mtk\u001b[38;5;241m.\u001b[39msplitlist(\n\u001b[1;32m-> 2766\u001b[0m            \u001b[38;5;28;43mself\u001b[39;49m\u001b[38;5;241;43m.\u001b[39;49m\u001b[43mtk\u001b[49m\u001b[38;5;241;43m.\u001b[39;49m\u001b[43mcall\u001b[49m\u001b[43m(\u001b[49m\u001b[43m(\u001b[49m\u001b[38;5;28;43mself\u001b[39;49m\u001b[38;5;241;43m.\u001b[39;49m\u001b[43m_w\u001b[49m\u001b[43m,\u001b[49m\u001b[43m \u001b[49m\u001b[38;5;124;43m'\u001b[39;49m\u001b[38;5;124;43mcoords\u001b[39;49m\u001b[38;5;124;43m'\u001b[39;49m\u001b[43m)\u001b[49m\u001b[43m \u001b[49m\u001b[38;5;241;43m+\u001b[39;49m\u001b[43m \u001b[49m\u001b[43margs\u001b[49m\u001b[43m)\u001b[49m)]\n",
      "\u001b[1;31mTclError\u001b[0m: invalid command name \".!canvas\""
     ]
    }
   ],
   "source": [
    "import turtle\n",
    "t = turtle.Turtle()\n",
    "t.shape(\"turtle\")\n",
    "\n",
    "def square(length) :\n",
    "  t.down()\n",
    "  for i in range(4) :\n",
    "    t.forward(length)\n",
    "    t.left(90)\n",
    "  t.up()\n",
    "\n",
    "square(100)\n",
    "t.forward(120)\n",
    "square(100)\n",
    "t.forward(120)\n",
    "square(100)\n",
    "\n",
    "turtle.mainloop()\n",
    "turtle.bye()"
   ]
  },
  {
   "cell_type": "code",
   "execution_count": 1,
   "id": "17ad1d2c",
   "metadata": {},
   "outputs": [],
   "source": [
    "# 나무 그리기\n",
    "\n",
    "import turtle\n",
    "\n",
    "def drawTree(branch, t):\n",
    "    if branch > 5:\n",
    "        t.forward(branch)\n",
    "        t.right(20)\n",
    "        drawTree(branch-15,t)\n",
    "        t.left(40)\n",
    "        drawTree(branch-15,t)\n",
    "        t.right(20)\n",
    "        t.backward(branch)\n",
    "        \n",
    "def main():\n",
    "    t= turtle.Turtle()\n",
    "    window = turtle.Screen()\n",
    "    t.left(90)\n",
    "    t.up()\n",
    "    t.backward(200)\n",
    "    t.down()\n",
    "    t.color(\"green\")\n",
    "    drawTree(100, t)\n",
    "    window.exitonclick()\n",
    "    \n",
    "main()"
   ]
  }
 ],
 "metadata": {
  "kernelspec": {
   "display_name": "Python 3 (ipykernel)",
   "language": "python",
   "name": "python3"
  },
  "language_info": {
   "codemirror_mode": {
    "name": "ipython",
    "version": 3
   },
   "file_extension": ".py",
   "mimetype": "text/x-python",
   "name": "python",
   "nbconvert_exporter": "python",
   "pygments_lexer": "ipython3",
   "version": "3.9.12"
  }
 },
 "nbformat": 4,
 "nbformat_minor": 5
}
