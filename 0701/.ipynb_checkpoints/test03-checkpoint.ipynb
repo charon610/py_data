{
 "cells": [
  {
   "cell_type": "code",
   "execution_count": 1,
   "id": "316b0e46",
   "metadata": {},
   "outputs": [
    {
     "name": "stdout",
     "output_type": "stream",
     "text": [
      "False\n"
     ]
    }
   ],
   "source": [
    "# 관계 연산자\n",
    "s1 = \"안녕하세요\"\n",
    "s2 = \"Hello\"\n",
    "print(s1 < s2)"
   ]
  },
  {
   "cell_type": "code",
   "execution_count": 20,
   "id": "482dc9fe",
   "metadata": {},
   "outputs": [
    {
     "name": "stdout",
     "output_type": "stream",
     "text": [
      "sqrt(3.0) * sqrt(3.0)은 3.0과 같지 않다\n",
      "sqrt(3.0) * sqrt(3.0)은 3.0과 같다\n",
      "sqrt(3.0) * sqrt(3.0)은 3.0과 같다\n"
     ]
    }
   ],
   "source": [
    "# 실수와 실수 비교\n",
    "from math import sqrt\n",
    "\n",
    "n = sqrt(3.0)\n",
    "\n",
    "if n*n == 3.0 :\n",
    "    print(\"sqrt(3.0) * sqrt(3.0)은 3.0과 같다\")\n",
    "else:\n",
    "    print(\"sqrt(3.0) * sqrt(3.0)은 3.0과 같지 않다\")\n",
    "        \n",
    "if abs(n*n - 3.0) < 0.0001 :\n",
    "    print(\"sqrt(3.0) * sqrt(3.0)은 3.0과 같다\")\n",
    "else:\n",
    "    print(\"sqrt(3.0) * sqrt(3.0)은 3.0과 같지 않다\")\n"
   ]
  },
  {
   "cell_type": "code",
   "execution_count": 11,
   "id": "d91ce4cd",
   "metadata": {},
   "outputs": [
    {
     "name": "stdout",
     "output_type": "stream",
     "text": [
      "23 + 33=56\n",
      "True\n"
     ]
    }
   ],
   "source": [
    "# 산술 문제 출제 프로그램\n",
    "import random\n",
    "\n",
    "x = random.randint(1, 100)\n",
    "y = random.randint(1, 100)\n",
    "\n",
    "answer = int(input(f\"{x} + {y}=\"))\n",
    "                   \n",
    "# Boolean 변수에 결과를 저장하고 출력\n",
    "flag = (answer == (x+y))\n",
    "print(flag)"
   ]
  },
  {
   "cell_type": "code",
   "execution_count": 18,
   "id": "fd2dd3a5",
   "metadata": {},
   "outputs": [
    {
     "name": "stdout",
     "output_type": "stream",
     "text": [
      "첫 번째 정수를 입력하세요:100\n",
      "두 번째 정수를 입력하세요:200\n",
      "절대값은 : 100\n",
      "최대값은 :  200\n",
      "최소값은 :  100\n"
     ]
    }
   ],
   "source": [
    "# 조건연산자 - 삼항연산자\n",
    "\n",
    "x = int(input(\"첫 번째 정수를 입력하세요:\"))\n",
    "y = int(input(\"두 번째 정수를 입력하세요:\"))\n",
    "\n",
    "absolute_value = (x if x>0 else -x)   # 절대값\n",
    "max_value = (x if x>y else y)   # 최대값\n",
    "min_value = (x if x<y else y)   # 최소값\n",
    "\n",
    "print(\"절대값은 :\", absolute_value)\n",
    "print(\"최대값은 : \", max_value)\n",
    "print(\"최소값은 : \", min_value)"
   ]
  },
  {
   "cell_type": "code",
   "execution_count": 19,
   "id": "96aabb42",
   "metadata": {},
   "outputs": [
    {
     "name": "stdout",
     "output_type": "stream",
     "text": [
      "온도를 입력하세요101\n",
      "물의 상태는 기체입니다.\n"
     ]
    }
   ],
   "source": [
    "# 온도에 따른 물의 상태\n",
    "temp = float(input(\"온도를 입력하세요\"))\n",
    "\n",
    "if temp <= 0 :\n",
    "    print(\"물의 상태는 얼음입니다.\")\n",
    "elif temp > 0 and temp < 100 :\n",
    "    print(\"물의 상태는 액체입니다.\")\n",
    "else : \n",
    "    print(\"물의 상태는 기체입니다.\")"
   ]
  }
 ],
 "metadata": {
  "kernelspec": {
   "display_name": "Python 3 (ipykernel)",
   "language": "python",
   "name": "python3"
  },
  "language_info": {
   "codemirror_mode": {
    "name": "ipython",
    "version": 3
   },
   "file_extension": ".py",
   "mimetype": "text/x-python",
   "name": "python",
   "nbconvert_exporter": "python",
   "pygments_lexer": "ipython3",
   "version": "3.9.12"
  }
 },
 "nbformat": 4,
 "nbformat_minor": 5
}
