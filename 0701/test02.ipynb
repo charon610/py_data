{
 "cells": [
  {
   "cell_type": "markdown",
   "id": "8caae873",
   "metadata": {},
   "source": [
    "## 입력과 출력"
   ]
  },
  {
   "cell_type": "code",
   "execution_count": 4,
   "id": "a05e02f5",
   "metadata": {
    "scrolled": true
   },
   "outputs": [
    {
     "name": "stdout",
     "output_type": "stream",
     "text": [
      "이름을 입력하세요:토니 스타크\n",
      "토니 스타크 님 안녕하세요?\n",
      "파이썬에 오신 것을 환영합니다.\n"
     ]
    }
   ],
   "source": [
    "name = input(\"이름을 입력하세요 : \")\n",
    "print(name, \"님 안녕하세요?\")\n",
    "print(\"파이썬에 오신 것을 환영합니다.\")"
   ]
  },
  {
   "cell_type": "code",
   "execution_count": 5,
   "id": "fef37877",
   "metadata": {
    "scrolled": true
   },
   "outputs": [
    {
     "name": "stdout",
     "output_type": "stream",
     "text": [
      "첫 번째 정수를 입력하세요:100\n",
      "두 번째 정수를 입력하세요:200\n",
      "합은 100200\n"
     ]
    }
   ],
   "source": [
    "# 문자열로 합이 출력\n",
    "x = input(\"첫 번째 정수를 입력하세요:\")\n",
    "y = input(\"두 번째 정수를 입력하세요:\")\n",
    "sum = x + y\n",
    "print(\"합은\", sum)"
   ]
  },
  {
   "cell_type": "code",
   "execution_count": 7,
   "id": "789c47f1",
   "metadata": {},
   "outputs": [
    {
     "name": "stdout",
     "output_type": "stream",
     "text": [
      "첫 번째 정수를 입력하세요:100\n",
      "두 번째 정수를 입력하세요:200\n",
      "합은 300\n",
      "100 200\n"
     ]
    }
   ],
   "source": [
    "# 문자열을 숫자형으로 변환해서 합 출력\n",
    "s1 = input(\"첫 번째 정수를 입력하세요:\")\n",
    "x = int(s1)\n",
    "s2 = input(\"두 번째 정수를 입력하세요:\")\n",
    "y = int(s2)\n",
    "sum = x + y\n",
    "print(\"합은\", sum)\n",
    "print(s1,s2)"
   ]
  },
  {
   "cell_type": "code",
   "execution_count": 10,
   "id": "06d6b88f",
   "metadata": {},
   "outputs": [
    {
     "name": "stdout",
     "output_type": "stream",
     "text": [
      "면적(제곱미터):100\n",
      "30.303030303030305 평\n"
     ]
    }
   ],
   "source": [
    "# 부동 소수점 사용\n",
    "# 평수를 구하는 방법\n",
    "# eval은 데이터에 따라 실수 또는 정수로 변환\n",
    "SQMETER_PER_P = 3.3\n",
    "\n",
    "area = eval(input(\"면적(제곱미터):\"))\n",
    "py = area / SQMETER_PER_P\n",
    "print(py, \"평\")"
   ]
  },
  {
   "cell_type": "code",
   "execution_count": 11,
   "id": "baf42fbc",
   "metadata": {},
   "outputs": [
    {
     "name": "stdout",
     "output_type": "stream",
     "text": [
      "면적(제곱미터):100\n",
      "30.30 평\n"
     ]
    }
   ],
   "source": [
    "# 형식화된 출력\n",
    "SQMETER_PER_P = 3.3\n",
    "\n",
    "area = eval(input(\"면적(제곱미터):\"))\n",
    "py = area / SQMETER_PER_P\n",
    "print(\"%.2f\" % py, \"평\")\n"
   ]
  },
  {
   "cell_type": "code",
   "execution_count": 12,
   "id": "455d7e6c",
   "metadata": {},
   "outputs": [
    {
     "name": "stdout",
     "output_type": "stream",
     "text": [
      "안녕하세요\n",
      "이름이 어떻게 되시나요?토니스타크\n",
      "만나서 반갑습니다.토니스타크씨\n",
      "이름의 길이는 다음과 같군요: 5\n",
      "나이가 어떻게 되나요?38\n",
      "내년이면39이 되시는군요.\n"
     ]
    }
   ],
   "source": [
    "# 대화형 프로그램\n",
    "print(\"안녕하세요\")\n",
    "name = input(\"이름이 어떻게 되시나요?\")\n",
    "print(\"만나서 반갑습니다.\" + name + \"씨\")\n",
    "print(\"이름의 길이는 다음과 같군요:\", len(name))\n",
    "\n",
    "age = int(input(\"나이가 어떻게 되나요?\"))\n",
    "print(\"내년이면\" + str(age+1)+ \"이 되시는군요.\")"
   ]
  },
  {
   "cell_type": "code",
   "execution_count": 14,
   "id": "e659cfea",
   "metadata": {},
   "outputs": [
    {
     "name": "stdout",
     "output_type": "stream",
     "text": [
      "몸무게를 kg 단위로 입력하세요 :65\n",
      "키를 미터 단위로 입력하세요 :173\n",
      "당신의 BMI= 21.71806608974573\n"
     ]
    }
   ],
   "source": [
    "# BMI 계산하기\n",
    "# BMI < 18.50 저체중\n",
    "# BMI 18.50 - 24.99 표준\n",
    "# BMI 24.99 - 29.99 과체중\n",
    "# BMI > 29.99 비만\n",
    "\n",
    "weight = float(input(\"몸무게를 kg 단위로 입력하세요 :\"))\n",
    "height = float(input(\"키를 미터 단위로 입력하세요 :\"))\n",
    "\n",
    "bmi = (weight / (height**2))*10000\n",
    "print(\"당신의 BMI=\", bmi)"
   ]
  },
  {
   "cell_type": "code",
   "execution_count": 18,
   "id": "14380c4f",
   "metadata": {},
   "outputs": [
    {
     "name": "stdout",
     "output_type": "stream",
     "text": [
      "반지름을 입력하세요: 5\n",
      "구의 부피=523.60\n"
     ]
    }
   ],
   "source": [
    "# 구의 부피 계산\n",
    "r = float(input(\"반지름을 입력하세요: \"))\n",
    "\n",
    "# 구의 부피 공식\n",
    "volume = (4.0/3.0)*3.141592*r**3\n",
    "\n",
    "# 구의 부피를 화면에 출력\n",
    "print(\"구의 부피=%5.2f\" % volume)"
   ]
  },
  {
   "cell_type": "code",
   "execution_count": 19,
   "id": "0f8ef712",
   "metadata": {},
   "outputs": [
    {
     "name": "stdout",
     "output_type": "stream",
     "text": [
      "물건값을 입력하시오: 5500\n",
      "===입력금액===\n",
      "1000원 지폐개수: 5\n",
      "500원 동전개수: 5\n",
      "100월 동전개수: 5\n",
      "===거스름돈 출력===\n",
      "500원= 5 100원= 0 10원= 0 1원= 0\n"
     ]
    }
   ],
   "source": [
    "# 자판기에서 거스름 돈 계산\n",
    "\n",
    "itemPrice = int(input(\"물건값을 입력하시오: \"))\n",
    "print(\"===입력금액===\")\n",
    "note = int(input(\"1000원 지폐개수: \"))\n",
    "coin500 = int(input(\"500원 동전개수: \"))\n",
    "coin100 = int(input(\"100원 동전개수: \"))\n",
    "\n",
    "change = note*1000 + coin500*500 + coin100 * 100 - itemPrice\n",
    "\n",
    "# 거스름돈(500원 동전 개수)을 계산\n",
    "nCoin500 = change // 500\n",
    "change = change%500\n",
    "# 거스름돈(100원 동전 개수)을 계산\n",
    "nCoin100 = change // 100\n",
    "change = change%100\n",
    "# 거스름돈(10원 동전 개수)을 계산\n",
    "nCoin10 = change // 10\n",
    "change = change%10\n",
    "# 거스름돈(1원 동전 개수)을 계산\n",
    "nCoin1 = change\n",
    "\n",
    "print(\"===거스름돈 출력===\")\n",
    "print(\"500원=\", nCoin500, \"100원=\", nCoin100, \"10원=\", nCoin10, \"1원=\", nCoin1)"
   ]
  },
  {
   "cell_type": "code",
   "execution_count": 22,
   "id": "324d48d0",
   "metadata": {},
   "outputs": [
    {
     "name": "stdout",
     "output_type": "stream",
     "text": [
      "상품의 가격: 360000\n",
      "배송비= 0\n"
     ]
    }
   ],
   "source": [
    "# 배송비 계산 프로그램\n",
    "price = int(input(\"상품의 가격: \"))\n",
    "\n",
    "# 배송비를 결정한다.\n",
    "if price > 20000 :\n",
    "    shopping_cost = 0\n",
    "else :\n",
    "    shopping_cost = 3000\n",
    "    \n",
    "# 배송비를 출력\n",
    "print(\"배송비=\", shopping_cost)"
   ]
  }
 ],
 "metadata": {
  "kernelspec": {
   "display_name": "Python 3 (ipykernel)",
   "language": "python",
   "name": "python3"
  },
  "language_info": {
   "codemirror_mode": {
    "name": "ipython",
    "version": 3
   },
   "file_extension": ".py",
   "mimetype": "text/x-python",
   "name": "python",
   "nbconvert_exporter": "python",
   "pygments_lexer": "ipython3",
   "version": "3.9.12"
  }
 },
 "nbformat": 4,
 "nbformat_minor": 5
}
