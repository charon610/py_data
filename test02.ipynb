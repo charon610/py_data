{
 "cells": [
  {
   "cell_type": "code",
   "execution_count": 1,
   "id": "316b0e46",
   "metadata": {
    "scrolled": true
   },
   "outputs": [
    {
     "name": "stdout",
     "output_type": "stream",
     "text": [
      "원하는 단은:5\n",
      "5 * 1 = 5\n",
      "5 * 2 = 10\n",
      "5 * 3 = 15\n",
      "5 * 4 = 20\n",
      "5 * 5 = 25\n",
      "5 * 6 = 30\n",
      "5 * 7 = 35\n",
      "5 * 8 = 40\n",
      "5 * 9 = 45\n"
     ]
    }
   ],
   "source": [
    "# while문을 사용한 구구단\n",
    "dan = int(input(\"원하는 단은:\"))\n",
    "i=1\n",
    "\n",
    "while i <=9 :\n",
    "    print(\"%d * %d = %d\" %(dan, i, dan*i))\n",
    "    i=i+1"
   ]
  },
  {
   "cell_type": "code",
   "execution_count": 10,
   "id": "90f50251",
   "metadata": {},
   "outputs": [
    {
     "name": "stdout",
     "output_type": "stream",
     "text": [
      "1부터 100사이의 숫자를 맞추세요\n",
      "숫자를 입력하세요:50\n",
      "너무 낮음!\n",
      "숫자를 입력하세요:60\n",
      "너무 높음!\n",
      "숫자를 입력하세요:55\n",
      "너무 높음!\n",
      "숫자를 입력하세요:54\n",
      "너무 높음!\n",
      "숫자를 입력하세요:53\n",
      "정답입니다. 시도횟수= 5\n",
      "정답은 53\n"
     ]
    }
   ],
   "source": [
    "# 숫자 맞추기  \n",
    "import random\n",
    "\n",
    "tries = 0\n",
    "guess = 0\n",
    "answer = random.randint(1, 100)\n",
    "\n",
    "print(\"1부터 100사이의 숫자를 맞추세요\")\n",
    "\n",
    "while guess != answer:\n",
    "    guess = int(input(\"숫자를 입력하세요:\"))\n",
    "    tries = tries + 1\n",
    "    if guess < answer:\n",
    "        print(\"너무 낮음!\")\n",
    "    elif guess > answer: \n",
    "        print(\"너무 높음!\")\n",
    "        \n",
    "if guess == answer : \n",
    "    print(\"정답입니다. 시도횟수=\", tries)\n",
    "    print(\"정답은\", answer)"
   ]
  },
  {
   "cell_type": "code",
   "execution_count": null,
   "id": "f5e49201",
   "metadata": {},
   "outputs": [],
   "source": []
  }
 ],
 "metadata": {
  "kernelspec": {
   "display_name": "Python 3 (ipykernel)",
   "language": "python",
   "name": "python3"
  },
  "language_info": {
   "codemirror_mode": {
    "name": "ipython",
    "version": 3
   },
   "file_extension": ".py",
   "mimetype": "text/x-python",
   "name": "python",
   "nbconvert_exporter": "python",
   "pygments_lexer": "ipython3",
   "version": "3.9.12"
  }
 },
 "nbformat": 4,
 "nbformat_minor": 5
}
